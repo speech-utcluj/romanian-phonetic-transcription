{
  "nbformat": 4,
  "nbformat_minor": 0,
  "metadata": {
    "colab": {
      "name": "SpeD2019_PhoneticTranscription_seq2seq.ipynb",
      "provenance": [],
      "collapsed_sections": [],
      "toc_visible": true
    },
    "kernelspec": {
      "name": "python3",
      "display_name": "Python 3"
    },
    "accelerator": "GPU"
  },
  "cells": [
    {
      "cell_type": "markdown",
      "metadata": {
        "id": "QzoujYVX2N9H",
        "colab_type": "text"
      },
      "source": [
        "# Sequence-to-Sequence Learning for Romanian Grapheme-to-Phoneme Conversion\n",
        "\n",
        "### This notebook can be used to replicate the results reported in the paper: \n",
        "\n",
        "> Adriana Stan, *”Input Encoding for Sequence-to-Sequence Learning of Romanian Grapheme-to-Phoneme Conversion”*, In Proceedings of the 10th Conference on Speech Technology and Human-Computer Dialogue, Timișoara, Romania, 2019, https://sped.pub.ro/\n",
        "\n",
        "\n",
        "The notebook is based on Keras's tutorial on sequence-to-sequence learning: https://keras.io/examples/lstm_seq2seq/\n",
        "\n",
        "\n",
        "**License**: The work is under a GNU General Public License v3.0 "
      ]
    },
    {
      "cell_type": "markdown",
      "metadata": {
        "id": "FYGfClMt4WyW",
        "colab_type": "text"
      },
      "source": [
        "## 1) Prerequisites\n",
        "\n",
        "The notebook is meant to be run on Google Colab's app. It can, however, be run on you local Jupyter server or as simple Python code.\n",
        "\n",
        "It uses the Keras toolkit with Tensorflow backend: http://keras.io \n",
        "\n",
        "\n",
        "If you would like to use the letter embeddings, you also need the `gensim` module. "
      ]
    },
    {
      "cell_type": "code",
      "metadata": {
        "id": "RaOiW7_yOhxO",
        "colab_type": "code",
        "outputId": "4870cc52-ee8c-4f39-833a-23ddfebcc59f",
        "colab": {
          "base_uri": "https://localhost:8080/",
          "height": 54
        }
      },
      "source": [
        "# Mount the Google drive or upload your data to Colab\n",
        "from google.colab import drive\n",
        "drive.mount('/content/gdrive/')"
      ],
      "execution_count": 1,
      "outputs": [
        {
          "output_type": "stream",
          "text": [
            "Drive already mounted at /content/gdrive/; to attempt to forcibly remount, call drive.mount(\"/content/gdrive/\", force_remount=True).\n"
          ],
          "name": "stdout"
        }
      ]
    },
    {
      "cell_type": "code",
      "metadata": {
        "id": "nUoU2mBVA-ut",
        "colab_type": "code",
        "colab": {}
      },
      "source": [
        "#!pip3 install gensim"
      ],
      "execution_count": 0,
      "outputs": []
    },
    {
      "cell_type": "markdown",
      "metadata": {
        "id": "qmB4xI665iFb",
        "colab_type": "text"
      },
      "source": [
        "## 2) Data preparation\n",
        "\n",
        "Download the MarePhor Romanian phonetic dictionary from: https://speech.utcluj.ro/marephor/. If you want to use the additional lexical stress positioning and syllabification you also need to obtain the DexOnline and RoSyllabiDict databases and process the data from within. \n",
        "\n",
        "Process the input data so that each line contains the input sequence followed by the phonetic sequence and separated by a vertical bar '|'. E.g.:\n",
        "\n",
        "> `A|a`\n",
        "\n",
        "> `AALBOAIEI|a a l b o_X a j e j`\n",
        "\n",
        "> `AALEXOAIEI|a a l e ks o_X a j e j`\n",
        "\n",
        "> `AANCUȚEI|a a n k u ts e j`\n",
        "\n",
        "\n",
        "or if you use the additional lexical features, just make sure that there are separate markers for syllabification and lexical stress\n",
        "\n",
        "> `a-al-bo'a-iei|a a l b o_X a j e j`\n",
        "\n",
        "> `a-a-le-xo'a-iei|a a l e ks o_X a j e j`\n",
        "\n",
        "> `a-an-cu-ț'ei|a a n k u ts e j`\n",
        "\n",
        "> `a-a-ni-c'ăi|a a n i k @ j`\n",
        "\n",
        "\n",
        "Separate the data into train and test sets and name them accordingly.\n",
        "\n",
        "The **letter embeddings** created from the Wikipedia dump are available in the Github repository alonside this notebook. \n"
      ]
    },
    {
      "cell_type": "markdown",
      "metadata": {
        "id": "DwdpDracspUH",
        "colab_type": "text"
      },
      "source": [
        "## 3) Read the data"
      ]
    },
    {
      "cell_type": "code",
      "metadata": {
        "id": "-NI7fUlastgl",
        "colab_type": "code",
        "outputId": "05446e8d-5102-4386-d109-9406cf63b042",
        "colab": {
          "base_uri": "https://localhost:8080/",
          "height": 190
        }
      },
      "source": [
        "from __future__ import print_function\n",
        "import numpy as np\n",
        "import random as r\n",
        "import sys\n",
        "\n",
        "# Path to the data files on disk\n",
        "# Change these accordingly\n",
        "data_path = '/content/gdrive/My Drive/Colab Notebooks/PHONETIC_TRANSCRIPTION_SPED/marephor_phonetic_corpus_TRAIN'\n",
        "test_data_path = '/content/gdrive/My Drive/Colab Notebooks/PHONETIC_TRANSCRIPTION_SPED/marephor_phonetic_corpus_TEST'\n",
        "\n",
        "\n",
        "# Read the train data file\n",
        "\n",
        "# number of samples to use for training/testing (-1 all)\n",
        "n_train = 1000\n",
        "n_test = 20\n",
        "\n",
        "# MarePhor contains a special symbol for phones which are not read '='\n",
        "# We will remove it from the transcription.\n",
        "lines = []\n",
        "with open(data_path, 'r') as f:\n",
        "    data = [x.strip().split('|') for x in f.readlines()[:n_train]]\n",
        "    for i in range(len(data)):\n",
        "       lines.append([data[i][0].lower(), ' '.join(data[i][1:]).replace(' =','')]) \n",
        "\n",
        "\n",
        "# Read the test data file        \n",
        "test_lines = []\n",
        "with open(test_data_path, 'r') as f:\n",
        "    test_data = [x.strip().split('|') for x in f.readlines()[:n_test]]\n",
        "    for i in range(len(test_data)):\n",
        "       test_lines.append([test_data[i][0].lower(), ' '.join(test_data[i][1:]).replace(' =','')])\n",
        "\n",
        "\n",
        "## Shuffle the data so that the batches do not contain\n",
        "# alphabetically ordered words\n",
        "r.shuffle(lines) \n",
        "r.shuffle(test_lines)\n",
        "\n",
        "# Get some numbers from the data\n",
        "num_train_samples = len(lines)   \n",
        "num_test_samples = len(test_lines)\n",
        "\n",
        "\n",
        "# Prepare some variables which will hold the data and stats\n",
        "\n",
        "# train\n",
        "input_texts = []\n",
        "target_texts = []\n",
        "# test\n",
        "test_input_texts = []\n",
        "test_target_texts = []\n",
        "# set of input and target characters\n",
        "input_characters = set()\n",
        "target_characters = set()\n",
        "\n",
        "# Add the start and end of sequence markers to the set of target characters\n",
        "target_characters.add('~')\n",
        "target_characters.add('!')\n",
        "\n",
        "\n",
        "# Process train and test indexes and create the sets of input and target chars\n",
        "for ind in range(num_train_samples):\n",
        "    input_texts.append(lines[ind][0])\n",
        "    # append the start and end of sequence markers\n",
        "    target_texts.append('~ '+lines[ind][1][:]+' !')\n",
        "    for char in set(lines[ind][0]):\n",
        "        if char not in input_characters:\n",
        "            input_characters.add(char)\n",
        "    for char in set(lines[ind][1].split()):\n",
        "        if char not in target_characters:\n",
        "            target_characters.add(char)\n",
        "\n",
        "for ind in range(num_test_samples):\n",
        "    test_input_texts.append(test_lines[ind][0])\n",
        "    # append the start and end of sequence markers\n",
        "    test_target_texts.append('~ '+test_lines[ind][1][:]+' !')\n",
        "    for char in set(test_lines[ind][0]):\n",
        "        if char not in input_characters:\n",
        "            input_characters.add(char)    \n",
        "    for char in set(test_lines[ind][1].split()):\n",
        "        if char not in target_characters:\n",
        "            target_characters.add(char)\n",
        "\n",
        "# Create more variables and numbers required for training\n",
        "input_characters = sorted(list(input_characters))\n",
        "target_characters = sorted(list(target_characters))\n",
        "num_encoder_tokens = len(input_characters)\n",
        "num_decoder_tokens = len(target_characters)\n",
        "\n",
        "max_encoder_seq_length = max([len(txt) for txt in input_texts])\n",
        "max_decoder_seq_length = max([len(txt) for txt in target_texts])\n",
        "test_max_encoder_seq_length = max([len(txt) for txt in test_input_texts])\n",
        "test_max_decoder_seq_length = max([len(txt) for txt in test_target_texts])\n",
        "\n",
        "# Maximum length of input and target sequences\n",
        "max_encoder_seq_length = max(max_encoder_seq_length, test_max_encoder_seq_length)\n",
        "max_decoder_seq_length = max(max_decoder_seq_length, test_max_decoder_seq_length)\n",
        "\n",
        "# Convert chars to integers\n",
        "input_token_index = dict(\n",
        "            [(char, i) for i, char in enumerate(input_characters)])\n",
        "target_token_index = dict(\n",
        "            [(char, i) for i, char in enumerate(target_characters)])\n",
        "\n",
        "# Create the reverse dict: integers to chars\n",
        "reverse_input_char_index = dict(\n",
        "    (i, char) for char, i in input_token_index.items())\n",
        "reverse_target_char_index = dict(\n",
        "    (i, char) for char, i in target_token_index.items())\n",
        "\n",
        "\n",
        "# Print some stats\n",
        "print('Number of TRAIN samples:', len(input_texts))\n",
        "print('Number of TEST samples:', len(test_input_texts))\n",
        "print('Number of unique input tokens - num_encoder_tokens:', num_encoder_tokens)\n",
        "print('Number of unique output tokens - num_decoder_tokens:', num_decoder_tokens)\n",
        "print('Max sequence length for inputs - max_encoder_seq_length:', max_encoder_seq_length)\n",
        "print('Max sequence length for outputs - max_decoder_seq_length:', max_decoder_seq_length)\n",
        "\n",
        "print ('Set of input characters:', input_characters)\n",
        "print ('Set of target characters:', target_characters)\n",
        "\n",
        "# Print a sample of the training data\n",
        "print (\"Training data sample: \", input_texts[10], target_texts[10]) "
      ],
      "execution_count": 4,
      "outputs": [
        {
          "output_type": "stream",
          "text": [
            "Number of TRAIN samples: 1000\n",
            "Number of TEST samples: 20\n",
            "Number of unique input tokens - num_encoder_tokens: 26\n",
            "Number of unique output tokens - num_decoder_tokens: 36\n",
            "Max sequence length for inputs - max_encoder_seq_length: 15\n",
            "Max sequence length for outputs - max_decoder_seq_length: 35\n",
            "Set of input characters: ['a', 'b', 'c', 'd', 'e', 'f', 'g', 'h', 'i', 'j', 'l', 'm', 'n', 'o', 'p', 'r', 's', 't', 'u', 'v', 'x', 'z', 'â', 'ă', 'ș', 'ț']\n",
            "Set of target characters: ['!', '1', '@', 'S', 'Z', 'a', 'b', 'd', 'dZ', 'e', 'e_X', 'f', 'g', 'h', 'i', 'i_0', 'j', 'k', 'k_j', 'ks', 'l', 'm', 'n', 'o', 'o_X', 'p', 'r', 's', 't', 'tS', 'ts', 'u', 'v', 'w', 'z', '~']\n",
            "Training data sample:  acatagrafie ~ a k a t a g r a f i e !\n"
          ],
          "name": "stdout"
        }
      ]
    },
    {
      "cell_type": "markdown",
      "metadata": {
        "id": "d6Xo9JwSJYAS",
        "colab_type": "text"
      },
      "source": [
        "## 4) Batch Generators\n",
        "\n",
        "As loading the data into memory at once might pose problems, it is more common to use a batch generator for training. This class prepares the batches on the fly without the need to load it all at once.\n",
        "\n",
        "\n",
        "Depending on the input encoding you want to use: one-hot encoding or letter embeddings, set the `encoding` variable accordingly:"
      ]
    },
    {
      "cell_type": "code",
      "metadata": {
        "id": "u1KmXNLKBWZ0",
        "colab_type": "code",
        "colab": {}
      },
      "source": [
        "# What input encoding to use\n",
        "#        - OHE - one-hot encoding\n",
        "#        - LE - letter embeddings\n",
        "input_encoding = 'LE'"
      ],
      "execution_count": 0,
      "outputs": []
    },
    {
      "cell_type": "code",
      "metadata": {
        "id": "4FxwJQ_EBfEX",
        "colab_type": "code",
        "colab": {
          "base_uri": "https://localhost:8080/",
          "height": 71
        },
        "outputId": "82b059b8-7506-4840-c5c8-95fdd9e342ef"
      },
      "source": [
        "# Read the letter embeddings and create random ones for the start and end\n",
        "# of sequence markers\n",
        "\n",
        "if input_encoding == 'LE':\n",
        "  from gensim.models import Word2Vec  \n",
        "  model = Word2Vec.load(\"/content/gdrive/My Drive/Colab Notebooks/PHONETIC_TRANSCRIPTION_SPED/rowiki_letter_30.model\")  \n",
        "  le = model.wv  \n",
        "  le[\"~\"] = np.array([0.0e-4]*model.wv.vector_size)\n",
        "  le[\"-\"] = np.array([0.2e-4]*len(le[\"a\"]))\n",
        "  le[\"'\"] = np.array([0.1e-4]*len(le[\"a\"]))  \n",
        "\n"
      ],
      "execution_count": 6,
      "outputs": [
        {
          "output_type": "stream",
          "text": [
            "/usr/local/lib/python3.6/dist-packages/smart_open/smart_open_lib.py:398: UserWarning: This function is deprecated, use smart_open.open instead. See the migration notes for details: https://github.com/RaRe-Technologies/smart_open/blob/master/README.rst#migrating-to-the-new-open-function\n",
            "  'See the migration notes for details: %s' % _MIGRATION_NOTES_URL\n"
          ],
          "name": "stderr"
        }
      ]
    },
    {
      "cell_type": "code",
      "metadata": {
        "id": "6wli76J-zQWF",
        "colab_type": "code",
        "colab": {
          "base_uri": "https://localhost:8080/",
          "height": 34
        },
        "outputId": "e65bf0fd-8b1d-4f30-c3cb-efa5b9461f34"
      },
      "source": [
        "from keras.utils import Sequence\n",
        "# This class is used to load in the data in batches by the specified batch_size \n",
        "# (all your data might not fit at once in the memory). \n",
        "# It loads the data in batches and normalizes each batch with max\n",
        "class BatchGenerator(Sequence):\n",
        "\n",
        "    def __init__(self, input_encoding, num_of_lines, batch_size, input_text, target_text, \n",
        "                 input_characters, target_characters, num_encoder_tokens, \n",
        "                 num_decoder_tokens, max_encoder_seq_length, \n",
        "                 max_decoder_seq_length, input_token_index, target_token_index):\n",
        "\n",
        "        self.input_encoding = input_encoding\n",
        "        self.num_of_lines = num_of_lines\n",
        "        self.batch_size = batch_size\n",
        "        self.input_text = input_text\n",
        "        self.target_text = target_text\n",
        "        self.input_characters = input_characters\n",
        "        self.target_characters = target_characters\n",
        "        self.num_encoder_tokens = num_encoder_tokens\n",
        "        self.num_decoder_tokens = num_decoder_tokens\n",
        "        self.max_encoder_seq_length = max_encoder_seq_length\n",
        "        self.max_decoder_seq_length = max_decoder_seq_length\n",
        "        self.input_token_index = input_token_index\n",
        "        self.target_token_index = target_token_index\n",
        "\n",
        "    def __len__(self):\n",
        "        return int(np.ceil(self.num_of_lines / float(self.batch_size)))\n",
        "\n",
        "    def __getitem__(self, idx):\n",
        "\n",
        "        start_index = idx * self.batch_size\n",
        "        if (idx + 1) * self.batch_size > self.num_of_lines:\n",
        "            end_index = self.num_of_lines\n",
        "        else:\n",
        "            end_index = (idx + 1) * self.batch_size\n",
        "\n",
        "        batch_x = self.input_text[start_index:end_index]\n",
        "        batch_y = self.target_text[start_index:end_index]\n",
        "\n",
        "        encoder_input_data = np.zeros(\n",
        "            (len(batch_x), self.max_encoder_seq_length, self.num_encoder_tokens),\n",
        "            dtype='float32')\n",
        "        decoder_input_data = np.zeros(\n",
        "            (len(batch_x), self.max_decoder_seq_length, self.num_decoder_tokens),\n",
        "            dtype='float32')\n",
        "        decoder_target_data = np.zeros(\n",
        "            (len(batch_x), self.max_decoder_seq_length, self.num_decoder_tokens),\n",
        "            dtype='float32')\n",
        "\n",
        "        for i, (input_text, target_text) in enumerate(zip(batch_x, batch_y)):\n",
        "            for t, char in enumerate(input_text):\n",
        "                if self.input_encoding == 'LE':\n",
        "                  encoder_input_data[i, t, :] = le[char]\n",
        "                else:\n",
        "                  encoder_input_data[i, t, input_token_index[char]] = 1.\n",
        "            for t, char in enumerate(target_text.split()):\n",
        "                # decoder_target_data is ahead of decoder_input_data by one timestep\n",
        "                decoder_input_data[i, t, target_token_index[char]] = 1.\n",
        "                if t > 0:\n",
        "                    # decoder_target_data will be ahead by one timestep\n",
        "                    # and will not include the start character.\n",
        "                    decoder_target_data[i, t - 1, target_token_index[char]] = 1.\n",
        "\n",
        "        return [encoder_input_data, decoder_input_data], decoder_target_data"
      ],
      "execution_count": 7,
      "outputs": [
        {
          "output_type": "stream",
          "text": [
            "Using TensorFlow backend.\n"
          ],
          "name": "stderr"
        }
      ]
    },
    {
      "cell_type": "markdown",
      "metadata": {
        "id": "fc9f3GcQJchg",
        "colab_type": "text"
      },
      "source": [
        "## 5) Setup the model"
      ]
    },
    {
      "cell_type": "code",
      "metadata": {
        "id": "NIuY0qydPWn9",
        "colab_type": "code",
        "outputId": "ce6c0371-40c1-48bf-ccdc-835a552748c8",
        "colab": {
          "base_uri": "https://localhost:8080/",
          "height": 207
        }
      },
      "source": [
        "from keras.models import Model\n",
        "from keras.layers import Input, LSTM, Dense\n",
        "\n",
        "\n",
        "batch_size = 32 # Batch size for training.\n",
        "latent_dim = 512 # Latent dimensionality of the encoding space.\n",
        "\n",
        "if input_encoding == 'LE':\n",
        "  num_encoder_tokens = len(le['~'])\n",
        "\n",
        "\n",
        "# Define an input sequence and process it.\n",
        "encoder_inputs = Input(shape=(None, num_encoder_tokens))\n",
        "encoder = LSTM(latent_dim, return_state=True)\n",
        "encoder_outputs, state_h, state_c = encoder(encoder_inputs)\n",
        "encoder_states = [state_h, state_c]\n",
        "\n",
        "# Set up the decoder, using `encoder_states` as initial state.\n",
        "decoder_inputs = Input(shape=(None, num_decoder_tokens))\n",
        "decoder_lstm = LSTM(latent_dim, return_sequences=True, return_state=True)\n",
        "decoder_outputs, _, _ = decoder_lstm(decoder_inputs,\n",
        "                                     initial_state=encoder_states)\n",
        "decoder_dense = Dense(num_decoder_tokens, activation='softmax')\n",
        "decoder_outputs = decoder_dense(decoder_outputs)\n",
        "\n",
        "\n",
        "model = Model([encoder_inputs, decoder_inputs], decoder_outputs)\n",
        "\n",
        "\n",
        "# Prepare the batch generator\n",
        "my_batch_generator = BatchGenerator(input_encoding, num_train_samples, batch_size, \n",
        "                       input_texts, target_texts, input_characters, target_characters, \n",
        "                       num_encoder_tokens, num_decoder_tokens, max_encoder_seq_length,\n",
        "                       max_decoder_seq_length, input_token_index, target_token_index)\n",
        "\n",
        "# Compile the model\n",
        "model.compile(optimizer='rmsprop', loss='categorical_crossentropy', metrics=['acc'])\n"
      ],
      "execution_count": 8,
      "outputs": [
        {
          "output_type": "stream",
          "text": [
            "WARNING:tensorflow:From /usr/local/lib/python3.6/dist-packages/keras/backend/tensorflow_backend.py:66: The name tf.get_default_graph is deprecated. Please use tf.compat.v1.get_default_graph instead.\n",
            "\n",
            "WARNING:tensorflow:From /usr/local/lib/python3.6/dist-packages/keras/backend/tensorflow_backend.py:541: The name tf.placeholder is deprecated. Please use tf.compat.v1.placeholder instead.\n",
            "\n",
            "WARNING:tensorflow:From /usr/local/lib/python3.6/dist-packages/keras/backend/tensorflow_backend.py:4432: The name tf.random_uniform is deprecated. Please use tf.random.uniform instead.\n",
            "\n",
            "WARNING:tensorflow:From /usr/local/lib/python3.6/dist-packages/keras/optimizers.py:793: The name tf.train.Optimizer is deprecated. Please use tf.compat.v1.train.Optimizer instead.\n",
            "\n",
            "WARNING:tensorflow:From /usr/local/lib/python3.6/dist-packages/keras/backend/tensorflow_backend.py:3576: The name tf.log is deprecated. Please use tf.math.log instead.\n",
            "\n"
          ],
          "name": "stdout"
        }
      ]
    },
    {
      "cell_type": "markdown",
      "metadata": {
        "id": "Zfjt4I4REGhT",
        "colab_type": "text"
      },
      "source": [
        "## 6) Train the model"
      ]
    },
    {
      "cell_type": "code",
      "metadata": {
        "id": "iTYAbpPPD-lw",
        "colab_type": "code",
        "colab": {
          "base_uri": "https://localhost:8080/",
          "height": 425
        },
        "outputId": "8b2349e3-6639-48fb-c008-0bd1e067e10e"
      },
      "source": [
        "epochs = 10\n",
        "\n",
        "print (\"\\nRunning on %d samples out of %d\\n\" %(len(input_texts),num_train_samples))\n",
        "print (\"Training on batchsize=%d for %d epochs with latent_dim=%d\" %(batch_size, epochs, latent_dim))\n",
        "history = model.fit_generator(generator=my_batch_generator, epochs=epochs)\n",
        "\n",
        "# Save model for future use\n",
        "model.save('s2s_phonetic.h5')"
      ],
      "execution_count": 11,
      "outputs": [
        {
          "output_type": "stream",
          "text": [
            "\n",
            "Running on 1000 samples out of 1000\n",
            "\n",
            "Training on batchsize=32 for 10 epochs with latent_dim=512\n",
            "Epoch 1/10\n",
            "32/32 [==============================] - 3s 98ms/step - loss: 0.0252 - acc: 0.6916\n",
            "Epoch 2/10\n",
            "32/32 [==============================] - 3s 96ms/step - loss: 0.0251 - acc: 0.6952\n",
            "Epoch 3/10\n",
            "32/32 [==============================] - 3s 95ms/step - loss: 0.0147 - acc: 0.7018\n",
            "Epoch 4/10\n",
            "32/32 [==============================] - 3s 95ms/step - loss: 0.0140 - acc: 0.6939\n",
            "Epoch 5/10\n",
            "32/32 [==============================] - 3s 95ms/step - loss: 0.0173 - acc: 0.7052\n",
            "Epoch 6/10\n",
            "32/32 [==============================] - 3s 96ms/step - loss: 0.0130 - acc: 0.7241\n",
            "Epoch 7/10\n",
            "32/32 [==============================] - 3s 96ms/step - loss: 0.0126 - acc: 0.6931\n",
            "Epoch 8/10\n",
            "32/32 [==============================] - 3s 96ms/step - loss: 0.0128 - acc: 0.6904\n",
            "Epoch 9/10\n",
            "32/32 [==============================] - 3s 98ms/step - loss: 0.0104 - acc: 0.6794\n",
            "Epoch 10/10\n",
            "32/32 [==============================] - 3s 97ms/step - loss: 0.0108 - acc: 0.6933\n"
          ],
          "name": "stdout"
        }
      ]
    },
    {
      "cell_type": "code",
      "metadata": {
        "id": "CD3rXvZRaDsT",
        "colab_type": "code",
        "colab": {}
      },
      "source": [
        "# Train more epochs? Uncomment the lines below\n",
        "\n",
        "#history = model.fit_generator(generator=my_batch_generator, epochs=3)\n",
        "#model.save('s2s_phonetic.h5')"
      ],
      "execution_count": 0,
      "outputs": []
    },
    {
      "cell_type": "markdown",
      "metadata": {
        "id": "8-aGRPb2Fcx-",
        "colab_type": "text"
      },
      "source": [
        "## 7) Plot the training history"
      ]
    },
    {
      "cell_type": "code",
      "metadata": {
        "id": "VCZkvwf1-Mla",
        "colab_type": "code",
        "outputId": "1425ac71-a5a0-4a41-f839-700299ce9f92",
        "colab": {
          "base_uri": "https://localhost:8080/",
          "height": 573
        }
      },
      "source": [
        "# Plot the model?\n",
        "#from keras.utils import plot_model\n",
        "#plot_model(model, to_file='model.pdf')\n",
        "\n",
        "import matplotlib.pyplot as plt\n",
        "\n",
        "# Plot training & validation accuracy values\n",
        "plt.plot(history.history['acc'])\n",
        "plt.title('Model accuracy')\n",
        "plt.ylabel('Accuracy')\n",
        "plt.xlabel('Epoch')\n",
        "plt.legend(['Train', 'Test'], loc='upper left')\n",
        "plt.show()\n",
        "\n",
        "\n",
        "# Plot training & validation loss values\n",
        "plt.plot(history.history['loss'])\n",
        "plt.title('Model loss')\n",
        "plt.ylabel('Loss')\n",
        "plt.xlabel('Epoch')\n",
        "plt.legend(['Train', 'Test'], loc='upper left')\n",
        "plt.show()"
      ],
      "execution_count": 12,
      "outputs": [
        {
          "output_type": "display_data",
          "data": {
            "image/png": "[encoded data removed]",
            "text/plain": [
              "<Figure size 432x288 with 1 Axes>"
            ]
          },
          "metadata": {
            "tags": []
          }
        },
        {
          "output_type": "display_data",
          "data": {
            "image/png": "[encoded data removed]",
            "text/plain": [
              "<Figure size 432x288 with 1 Axes>"
            ]
          },
          "metadata": {
            "tags": []
          }
        }
      ]
    },
    {
      "cell_type": "markdown",
      "metadata": {
        "id": "XbAWXC8wJntR",
        "colab_type": "text"
      },
      "source": [
        "## 8) Evaluate the model\n",
        "\n",
        "We don't want to check just the metrics on the test set, but to also see the predicted phone transcription. The following function decodes the output sequence into readable characters:"
      ]
    },
    {
      "cell_type": "code",
      "metadata": {
        "id": "uh2TEfjLGRYH",
        "colab_type": "code",
        "colab": {}
      },
      "source": [
        "def decode_sequence(input_seq):\n",
        "    # Encode the input as state vectors.\n",
        "    states_value = encoder_model.predict(input_seq)\n",
        "\n",
        "    # Generate empty target sequence of length 1.\n",
        "    target_seq = np.zeros((1, 1, num_decoder_tokens))\n",
        "    # Populate the first character of target sequence with the start character.\n",
        "    target_seq[0, 0, target_token_index['~']] = 1.\n",
        "\n",
        "    # Sampling loop for a batch of sequences\n",
        "    stop_condition = False\n",
        "    decoded_sentence = ''\n",
        "    while not stop_condition:\n",
        "        output_tokens, h, c = decoder_model.predict(\n",
        "            [target_seq] + states_value)\n",
        "\n",
        "        # Sample a token\n",
        "        sampled_token_index = np.argmax(output_tokens[0, -1, :])\n",
        "       \n",
        "        sampled_char = reverse_target_char_index[sampled_token_index]\n",
        "        decoded_sentence += ' '+sampled_char\n",
        "\n",
        "        # Exit condition: either hit max length\n",
        "        # or find stop character.\n",
        "        if (sampled_char == '!' or\n",
        "           len(decoded_sentence) > max_decoder_seq_length):\n",
        "            stop_condition = True\n",
        "\n",
        "        # Update the target sequence (of length 1).\n",
        "        target_seq = np.zeros((1, 1, num_decoder_tokens))\n",
        "        target_seq[0, 0, sampled_token_index] = 1.\n",
        "\n",
        "        # Update states\n",
        "        states_value = [h, c]\n",
        "\n",
        "    return decoded_sentence[:-1]"
      ],
      "execution_count": 0,
      "outputs": []
    },
    {
      "cell_type": "markdown",
      "metadata": {
        "id": "RV980bL8H4Se",
        "colab_type": "text"
      },
      "source": [
        "We also need to process the test data into the same format as the training data:"
      ]
    },
    {
      "cell_type": "code",
      "metadata": {
        "id": "2ITYFwhmGVSy",
        "colab_type": "code",
        "colab": {}
      },
      "source": [
        "def process_test_data(test_input_text, test_target_text):\n",
        "  \n",
        "    encoder_input_data = np.zeros(\n",
        "        (1, max_encoder_seq_length, num_encoder_tokens),\n",
        "        dtype='float32')\n",
        "    decoder_input_data = np.zeros(\n",
        "        (1, max_decoder_seq_length, num_decoder_tokens),\n",
        "        dtype='float32')\n",
        "    decoder_target_data = np.zeros(\n",
        "        (1, max_decoder_seq_length, num_decoder_tokens),\n",
        "        dtype='float32')\n",
        "\n",
        "    for t, char in enumerate(test_input_text):\n",
        "        if input_encoding == 'LE':\n",
        "          encoder_input_data[0, t, :] = le[char]\n",
        "        else: \n",
        "          encoder_input_data[i, t, input_token_index[char]] = 1.\n",
        "    for t, char in enumerate(test_target_text.split()):\n",
        "        # decoder_target_data is ahead of decoder_input_data by one timestep\n",
        "        decoder_input_data[0, t, target_token_index[char]] = 1.\n",
        "        if t > 0:\n",
        "            decoder_target_data[0, t - 1, target_token_index[char]] = 1.\n",
        "\n",
        "    return encoder_input_data, decoder_input_data, decoder_target_data"
      ],
      "execution_count": 0,
      "outputs": []
    },
    {
      "cell_type": "markdown",
      "metadata": {
        "id": "b9hf1S2XIXP6",
        "colab_type": "text"
      },
      "source": [
        "Also, we need to setup the model for inference:"
      ]
    },
    {
      "cell_type": "code",
      "metadata": {
        "id": "O64_fyI8Iaq9",
        "colab_type": "code",
        "colab": {}
      },
      "source": [
        "encoder_inputs = model.input[0]   # input_1\n",
        "encoder_outputs, state_h_enc, state_c_enc = model.layers[2].output   # lstm_1\n",
        "encoder_states = [state_h_enc, state_c_enc]\n",
        "encoder_model = Model(encoder_inputs, encoder_states)\n",
        "\n",
        "decoder_inputs = model.input[1]   # input_2\n",
        "decoder_state_input_h = Input(shape=(latent_dim,), name='input_3')\n",
        "decoder_state_input_c = Input(shape=(latent_dim,), name='input_4')\n",
        "decoder_states_inputs = [decoder_state_input_h, decoder_state_input_c]\n",
        "decoder_lstm = model.layers[3]\n",
        "decoder_outputs, state_h_dec, state_c_dec = decoder_lstm(\n",
        "    decoder_inputs, initial_state=decoder_states_inputs)\n",
        "decoder_states = [state_h_dec, state_c_dec]\n",
        "decoder_dense = model.layers[4]\n",
        "decoder_outputs = decoder_dense(decoder_outputs)\n",
        "decoder_model = Model(\n",
        "    [decoder_inputs] + decoder_states_inputs,\n",
        "    [decoder_outputs] + decoder_states)"
      ],
      "execution_count": 0,
      "outputs": []
    },
    {
      "cell_type": "markdown",
      "metadata": {
        "id": "yx5yBTimH-NX",
        "colab_type": "text"
      },
      "source": [
        "And finally get some numbers and predictions out:"
      ]
    },
    {
      "cell_type": "code",
      "metadata": {
        "id": "7Am9Pd42JlIR",
        "colab_type": "code",
        "outputId": "cb0d240d-9059-43aa-9e41-848094ae2adb",
        "colab": {
          "base_uri": "https://localhost:8080/",
          "height": 340
        }
      },
      "source": [
        "total_loss = 0\n",
        "total_acc = 0\n",
        "total = 0\n",
        "err = 0\n",
        "print (\"INPUT\".ljust(20), \"TARGET\".ljust(40), \"DECODED\".ljust(40))\n",
        "\n",
        "char_total = 0\n",
        "char_err = 0\n",
        "\n",
        "for i in range(len(test_input_texts)):\n",
        "    \n",
        "    encoder_input_data, decoder_input_data, decoder_target_data = process_test_data(test_input_texts[i], test_target_texts[i])\n",
        "    zz = decode_sequence(encoder_input_data)\n",
        "    tgt = test_target_texts[i].replace('~ ','').replace(' !','')\n",
        "    \n",
        "    zz_chars = zz.strip().split()\n",
        "    tgt_chars = tgt.strip().split()\n",
        "    \n",
        "    if (zz.strip() != tgt.strip()):\n",
        "      print(test_input_texts[i].strip().ljust(20), tgt.strip().ljust(40), zz.strip().ljust(40))\n",
        "      err += 1\n",
        "      for j in range(min(len(tgt_chars), len(zz_chars))):\n",
        "        if tgt_chars[j]!=zz_chars[j]:\n",
        "           char_err +=1\n",
        "    char_total += len(tgt.strip().split())\n",
        "    total +=1  \n",
        "    if total % 500 == 0:\n",
        "      print (total)\n",
        "    \n",
        "print (\"\\n****\\nAccuracy at character level %.4f \" %(float(char_total-char_err)/char_total))      \n",
        "print (\"\\n****\\nAccuracy at word level %.4f \" %(float(total-err)/total))"
      ],
      "execution_count": 16,
      "outputs": [
        {
          "output_type": "stream",
          "text": [
            "INPUT                TARGET                                   DECODED                                 \n",
            "abisinian            a b i s i n i a n                        a b i tS i n o n                        \n",
            "abacă                a b a k @                                a b a t @                               \n",
            "abitație             a b i t a ts i e                         a b i ts i ts i e                       \n",
            "abătu                a b @ t u                                a b @ t a                               \n",
            "abatesă              a b a t e s @                            a b a t e r k                           \n",
            "abătut               a b @ t u t                              a b @ t a t                             \n",
            "ablefarie            a b l e f a r i e                        a b l e p a i e                         \n",
            "aberant              a b e r a n t                            a b e r e_X a n t                       \n",
            "abductor             a b d u k t o r                          a b Z u k a t e                         \n",
            "abanos               a b a n o s                              a b o n a Z                             \n",
            "abate                a b a t e                                a b a t e r                             \n",
            "abdicare             a b d i k a r e                          a b s i d a r e                         \n",
            "\n",
            "****\n",
            "Accuracy at character level 0.8047 \n",
            "\n",
            "****\n",
            "Accuracy at word level 0.4000 \n"
          ],
          "name": "stdout"
        }
      ]
    },
    {
      "cell_type": "code",
      "metadata": {
        "id": "9oCucrAhEjsa",
        "colab_type": "code",
        "colab": {}
      },
      "source": [
        ""
      ],
      "execution_count": 0,
      "outputs": []
    }
  ]
}